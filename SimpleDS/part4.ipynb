{
 "cells": [
  {
   "cell_type": "code",
   "execution_count": 2,
   "metadata": {},
   "outputs": [
    {
     "name": "stderr",
     "output_type": "stream",
     "text": [
      "/home/victoralvin/.local/lib/python3.10/site-packages/matplotlib/projections/__init__.py:63: UserWarning: Unable to import Axes3D. This may be due to multiple versions of Matplotlib being installed (e.g. as a system package and as a pip package). As a result, the 3D projection is not available.\n",
      "  warnings.warn(\"Unable to import Axes3D. This may be due to multiple versions of \"\n"
     ]
    }
   ],
   "source": [
    "# Importing necessary libraries\n",
    "import pandas as pd\n",
    "import numpy as np\n",
    "import matplotlib.pyplot as plt\n",
    "import seaborn as sns\n",
    "from sklearn.model_selection import train_test_split, cross_val_score\n",
    "from sklearn.linear_model import LinearRegression\n",
    "from sklearn.metrics import mean_squared_error, r2_score\n",
    "\n",
    "import warnings\n",
    "warnings.filterwarnings(\"ignore\")"
   ]
  },
  {
   "cell_type": "code",
   "execution_count": 3,
   "metadata": {},
   "outputs": [],
   "source": [
    "# Load the dataset without specifying column names\n",
    "df = pd.read_csv('housing_boston.csv', header=None)"
   ]
  },
  {
   "cell_type": "code",
   "execution_count": 4,
   "metadata": {},
   "outputs": [],
   "source": [
    "# Label the columns as 'column1' to 'column14'\n",
    "df.columns = ['column1', 'column2', 'column3', 'column4', 'column5', 'column6', 'column7', 'column8', 'column9', 'column10', 'column11', 'column12', 'column13', 'column14']"
   ]
  },
  {
   "cell_type": "code",
   "execution_count": 5,
   "metadata": {},
   "outputs": [
    {
     "name": "stdout",
     "output_type": "stream",
     "text": [
      "First few rows of the dataset:\n",
      "   column1  column2  column3  column4  column5  column6  column7  column8  \\\n",
      "0  0.00632     18.0     2.31        0    0.538    6.575     65.2   4.0900   \n",
      "1  0.02731      0.0     7.07        0    0.469    6.421     78.9   4.9671   \n",
      "2  0.02729      0.0     7.07        0    0.469    7.185     61.1   4.9671   \n",
      "3  0.03237      0.0     2.18        0    0.458    6.998     45.8   6.0622   \n",
      "4  0.06905      0.0     2.18        0    0.458    7.147     54.2   6.0622   \n",
      "\n",
      "   column9  column10  column11  column12  column13  column14  \n",
      "0        1       296      15.3    396.90      4.98      24.0  \n",
      "1        2       242      17.8    396.90      9.14      21.6  \n",
      "2        2       242      17.8    392.83      4.03      34.7  \n",
      "3        3       222      18.7    394.63      2.94      33.4  \n",
      "4        3       222      18.7    396.90      5.33      36.2  \n"
     ]
    }
   ],
   "source": [
    "# Display the first few rows of the dataset\n",
    "print(\"First few rows of the dataset:\")\n",
    "print(df.head())"
   ]
  },
  {
   "cell_type": "code",
   "execution_count": 6,
   "metadata": {},
   "outputs": [
    {
     "name": "stdout",
     "output_type": "stream",
     "text": [
      "Missing values:\n",
      "column1     0\n",
      "column2     0\n",
      "column3     0\n",
      "column4     0\n",
      "column5     0\n",
      "column6     0\n",
      "column7     0\n",
      "column8     0\n",
      "column9     0\n",
      "column10    0\n",
      "column11    0\n",
      "column12    0\n",
      "column13    0\n",
      "column14    0\n",
      "dtype: int64\n"
     ]
    }
   ],
   "source": [
    "# Check for missing values\n",
    "print(\"Missing values:\")\n",
    "print(df.isnull().sum())"
   ]
  },
  {
   "cell_type": "code",
   "execution_count": 7,
   "metadata": {},
   "outputs": [
    {
     "name": "stdout",
     "output_type": "stream",
     "text": [
      "Column Names: Index(['column1', 'column2', 'column3', 'column4', 'column5', 'column6',\n",
      "       'column7', 'column8', 'column9', 'column10', 'column11', 'column12',\n",
      "       'column13', 'column14'],\n",
      "      dtype='object')\n"
     ]
    }
   ],
   "source": [
    "print(\"Column Names:\", df.columns)"
   ]
  },
  {
   "cell_type": "code",
   "execution_count": 8,
   "metadata": {},
   "outputs": [],
   "source": [
    "# Visualization 1: Pairplot\n",
    "sns.pairplot(df)\n",
    "plt.title('Pairplot of Housing Data')\n",
    "plt.show()"
   ]
  },
  {
   "cell_type": "code",
   "execution_count": null,
   "metadata": {},
   "outputs": [],
   "source": [
    "# Separate predictors (features) and target variable\n",
    "X = df.drop(columns=['column14'])  # Drop the target variable 'column14'\n",
    "Y = df['column14']  # Set the target variable 'column14' as Y"
   ]
  },
  {
   "cell_type": "code",
   "execution_count": null,
   "metadata": {},
   "outputs": [],
   "source": [
    "# Split the data into training and testing sets\n",
    "X_train, X_test, Y_train, Y_test = train_test_split(X, Y, test_size=0.2, random_state=42)"
   ]
  },
  {
   "cell_type": "code",
   "execution_count": null,
   "metadata": {},
   "outputs": [],
   "source": [
    "# Initialize and train the Linear Regression model\n",
    "model = LinearRegression()\n",
    "model.fit(X_train, Y_train)"
   ]
  },
  {
   "cell_type": "code",
   "execution_count": null,
   "metadata": {},
   "outputs": [],
   "source": [
    "# Test the model on the testing data\n",
    "Y_pred = model.predict(X_test)"
   ]
  },
  {
   "cell_type": "code",
   "execution_count": null,
   "metadata": {},
   "outputs": [],
   "source": [
    "# Perform 10-fold cross-validation\n",
    "cv_scores = cross_val_score(model, X, Y, cv=10, scoring='neg_mean_squared_error')\n",
    "mse_cv = -cv_scores.mean()\n",
    "print(\"Mean Cross-Validation MSE:\", mse_cv)"
   ]
  },
  {
   "cell_type": "code",
   "execution_count": null,
   "metadata": {},
   "outputs": [],
   "source": [
    "# Evaluate the model using Mean Squared Error (MSE) and R-squared\n",
    "mse = mean_squared_error(Y_test, Y_pred)\n",
    "r2 = r2_score(Y_test, Y_pred)\n",
    "print(\"Mean Squared Error:\", mse)\n",
    "print(\"R-squared:\", r2)"
   ]
  },
  {
   "cell_type": "code",
   "execution_count": null,
   "metadata": {},
   "outputs": [],
   "source": [
    "# Visualization 3: Scatter plot of predicted vs actual values\n",
    "plt.figure(figsize=(8, 6))\n",
    "plt.scatter(Y_test, Y_pred)\n",
    "plt.plot([min(Y_test), max(Y_test)], [min(Y_test), max(Y_test)], linestyle='--', color='red')\n",
    "plt.xlabel('Actual Values')\n",
    "plt.ylabel('Predicted Values')\n",
    "plt.title('Scatter plot of Actual vs Predicted Values')\n",
    "plt.show()"
   ]
  },
  {
   "cell_type": "code",
   "execution_count": null,
   "metadata": {},
   "outputs": [],
   "source": [
    "# Create two new records for prediction\n",
    "new_data = pd.DataFrame({\n",
    "    'column1': [0.1, 0.05],\n",
    "    'column2': [20, 30],\n",
    "    'column3': [5, 10],\n",
    "    'column4': [0, 1],\n",
    "    'column5': [0.5, 0.3],\n",
    "    'column6': [6, 7],\n",
    "    'column7': [50, 60],\n",
    "    'column8': [5, 7],\n",
    "    'column9': [2, 4],\n",
    "    'column10': [300, 400],\n",
    "    'column11': [15, 20],\n",
    "    'column12': [350, 400],\n",
    "    'column13': [10, 15]\n",
    "})"
   ]
  },
  {
   "cell_type": "code",
   "execution_count": null,
   "metadata": {},
   "outputs": [],
   "source": [
    "# Predict median housing prices for new records\n",
    "new_predictions = model.predict(new_data)\n",
    "print(\"Predictions for new records:\")\n",
    "for idx, prediction in enumerate(new_predictions):\n",
    "    print(f\"New Record {idx+1}: ${prediction:.2f}\")"
   ]
  }
 ],
 "metadata": {
  "kernelspec": {
   "display_name": "Python 3",
   "language": "python",
   "name": "python3"
  },
  "language_info": {
   "codemirror_mode": {
    "name": "ipython",
    "version": 3
   },
   "file_extension": ".py",
   "mimetype": "text/x-python",
   "name": "python",
   "nbconvert_exporter": "python",
   "pygments_lexer": "ipython3",
   "version": "3.10.12"
  }
 },
 "nbformat": 4,
 "nbformat_minor": 2
}
