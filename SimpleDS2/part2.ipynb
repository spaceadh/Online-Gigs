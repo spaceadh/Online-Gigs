{
 "cells": [
  {
   "cell_type": "code",
   "execution_count": 25,
   "metadata": {},
   "outputs": [],
   "source": [
    "import pandas as pd\n",
    "import warnings\n",
    "warnings.filterwarnings(\"ignore\")"
   ]
  },
  {
   "cell_type": "code",
   "execution_count": 26,
   "metadata": {},
   "outputs": [],
   "source": [
    "# Load the dataset\n",
    "df = pd.read_csv('IoTProcessed_Data.csv')"
   ]
  },
  {
   "cell_type": "code",
   "execution_count": 27,
   "metadata": {},
   "outputs": [
    {
     "name": "stdout",
     "output_type": "stream",
     "text": [
      "Dataset Information:\n",
      "<class 'pandas.core.frame.DataFrame'>\n",
      "RangeIndex: 37922 entries, 0 to 37921\n",
      "Data columns (total 13 columns):\n",
      " #   Column                   Non-Null Count  Dtype  \n",
      "---  ------                   --------------  -----  \n",
      " 0   date                     37920 non-null  object \n",
      " 1   tempreature              37922 non-null  int64  \n",
      " 2   humidity                 37922 non-null  int64  \n",
      " 3   water_level              37922 non-null  int64  \n",
      " 4   N                        37922 non-null  int64  \n",
      " 5   P                        37922 non-null  int64  \n",
      " 6   K                        37922 non-null  int64  \n",
      " 7   Fan_actuator_OFF         37922 non-null  float64\n",
      " 8   Fan_actuator_ON          37922 non-null  float64\n",
      " 9   Watering_plant_pump_OFF  37922 non-null  float64\n",
      " 10  Watering_plant_pump_ON   37922 non-null  float64\n",
      " 11  Water_pump_actuator_OFF  37922 non-null  float64\n",
      " 12  Water_pump_actuator_ON   37922 non-null  float64\n",
      "dtypes: float64(6), int64(6), object(1)\n",
      "memory usage: 3.8+ MB\n",
      "None\n"
     ]
    }
   ],
   "source": [
    "# Display basic information about the dataset\n",
    "print(\"Dataset Information:\")\n",
    "print(df.info())"
   ]
  },
  {
   "cell_type": "code",
   "execution_count": 28,
   "metadata": {},
   "outputs": [
    {
     "name": "stdout",
     "output_type": "stream",
     "text": [
      "\n",
      "Missing Values:\n",
      "date                       2\n",
      "tempreature                0\n",
      "humidity                   0\n",
      "water_level                0\n",
      "N                          0\n",
      "P                          0\n",
      "K                          0\n",
      "Fan_actuator_OFF           0\n",
      "Fan_actuator_ON            0\n",
      "Watering_plant_pump_OFF    0\n",
      "Watering_plant_pump_ON     0\n",
      "Water_pump_actuator_OFF    0\n",
      "Water_pump_actuator_ON     0\n",
      "dtype: int64\n"
     ]
    }
   ],
   "source": [
    "# Check for missing values\n",
    "print(\"\\nMissing Values:\")\n",
    "print(df.isnull().sum())"
   ]
  },
  {
   "cell_type": "code",
   "execution_count": 29,
   "metadata": {},
   "outputs": [
    {
     "name": "stdout",
     "output_type": "stream",
     "text": [
      "                  date  tempreature  humidity  water_level    N    P    K  \\\n",
      "0  2024-02-08 06:10:00           41        63          100  255  255  255   \n",
      "1  2024-02-08 06:15:00           41        59          100  255  255  255   \n",
      "2  2024-02-08 06:20:00           41        62          100  255  255  255   \n",
      "3  2024-02-08 06:05:00           40        60          100  255  255  255   \n",
      "4  2024-02-08 06:00:00           39        61          100  255  255  255   \n",
      "\n",
      "   Fan_actuator_OFF  Fan_actuator_ON  Watering_plant_pump_OFF  \\\n",
      "0               0.0              1.0                      1.0   \n",
      "1               0.0              1.0                      1.0   \n",
      "2               0.0              1.0                      1.0   \n",
      "3               0.0              1.0                      1.0   \n",
      "4               0.0              1.0                      1.0   \n",
      "\n",
      "   Watering_plant_pump_ON  Water_pump_actuator_OFF  Water_pump_actuator_ON  \n",
      "0                     0.0                      1.0                     0.0  \n",
      "1                     0.0                      1.0                     0.0  \n",
      "2                     0.0                      1.0                     0.0  \n",
      "3                     0.0                      1.0                     0.0  \n",
      "4                     0.0                      1.0                     0.0  \n"
     ]
    }
   ],
   "source": [
    "print(df.head())"
   ]
  },
  {
   "cell_type": "code",
   "execution_count": 30,
   "metadata": {},
   "outputs": [],
   "source": [
    "# Convert 'date' column to datetime format\n",
    "df['date'] = pd.to_datetime(df['date'])\n",
    "\n",
    "# Calculate the average time difference between consecutive timestamps\n",
    "time_diff = df['date'].diff().mean()\n",
    "\n",
    "# Fill missing 'date' values based on average time difference\n",
    "df['date'] = df['date'].fillna(method='ffill', limit=1)\n",
    "df['date'] = df['date'].fillna(method='bfill', limit=1)"
   ]
  },
  {
   "cell_type": "code",
   "execution_count": 31,
   "metadata": {},
   "outputs": [
    {
     "name": "stdout",
     "output_type": "stream",
     "text": [
      "\n",
      "Missing Values:\n",
      "date                       0\n",
      "tempreature                0\n",
      "humidity                   0\n",
      "water_level                0\n",
      "N                          0\n",
      "P                          0\n",
      "K                          0\n",
      "Fan_actuator_OFF           0\n",
      "Fan_actuator_ON            0\n",
      "Watering_plant_pump_OFF    0\n",
      "Watering_plant_pump_ON     0\n",
      "Water_pump_actuator_OFF    0\n",
      "Water_pump_actuator_ON     0\n",
      "dtype: int64\n"
     ]
    }
   ],
   "source": [
    "# Check for missing values after cleaning.\n",
    "print(\"\\nMissing Values:\")\n",
    "print(df.isnull().sum())"
   ]
  },
  {
   "cell_type": "code",
   "execution_count": 32,
   "metadata": {},
   "outputs": [],
   "source": [
    "# Save the cleaned dataset to a new CSV file\n",
    "df.to_csv('Cleaned_IoTProcessed_Data.csv', index=False)"
   ]
  },
  {
   "cell_type": "code",
   "execution_count": 33,
   "metadata": {},
   "outputs": [
    {
     "name": "stdout",
     "output_type": "stream",
     "text": [
      "\n",
      "Cleaned Dataset Information:\n",
      "<class 'pandas.core.frame.DataFrame'>\n",
      "RangeIndex: 37922 entries, 0 to 37921\n",
      "Data columns (total 13 columns):\n",
      " #   Column                   Non-Null Count  Dtype         \n",
      "---  ------                   --------------  -----         \n",
      " 0   date                     37922 non-null  datetime64[ns]\n",
      " 1   tempreature              37922 non-null  int64         \n",
      " 2   humidity                 37922 non-null  int64         \n",
      " 3   water_level              37922 non-null  int64         \n",
      " 4   N                        37922 non-null  int64         \n",
      " 5   P                        37922 non-null  int64         \n",
      " 6   K                        37922 non-null  int64         \n",
      " 7   Fan_actuator_OFF         37922 non-null  float64       \n",
      " 8   Fan_actuator_ON          37922 non-null  float64       \n",
      " 9   Watering_plant_pump_OFF  37922 non-null  float64       \n",
      " 10  Watering_plant_pump_ON   37922 non-null  float64       \n",
      " 11  Water_pump_actuator_OFF  37922 non-null  float64       \n",
      " 12  Water_pump_actuator_ON   37922 non-null  float64       \n",
      "dtypes: datetime64[ns](1), float64(6), int64(6)\n",
      "memory usage: 3.8 MB\n",
      "None\n"
     ]
    }
   ],
   "source": [
    "#  Display information about the cleaned dataset\n",
    "print(\"\\nCleaned Dataset Information:\")\n",
    "print(df.info())"
   ]
  },
  {
   "cell_type": "code",
   "execution_count": 34,
   "metadata": {},
   "outputs": [
    {
     "name": "stdout",
     "output_type": "stream",
     "text": [
      "\n",
      "Missing Values:\n",
      "date                       0\n",
      "tempreature                0\n",
      "humidity                   0\n",
      "water_level                0\n",
      "N                          0\n",
      "P                          0\n",
      "K                          0\n",
      "Fan_actuator_OFF           0\n",
      "Fan_actuator_ON            0\n",
      "Watering_plant_pump_OFF    0\n",
      "Watering_plant_pump_ON     0\n",
      "Water_pump_actuator_OFF    0\n",
      "Water_pump_actuator_ON     0\n",
      "dtype: int64\n"
     ]
    }
   ],
   "source": [
    "# Check for missing values\n",
    "print(\"\\nMissing Values:\")\n",
    "print(df.isnull().sum())"
   ]
  },
  {
   "cell_type": "code",
   "execution_count": 35,
   "metadata": {},
   "outputs": [
    {
     "name": "stdout",
     "output_type": "stream",
     "text": [
      "\n",
      "Summary Report:\n",
      "Original dataset size: 37922\n",
      "Cleaned dataset size: 37922\n"
     ]
    }
   ],
   "source": [
    "# Summary report\n",
    "print(\"\\nSummary Report:\")\n",
    "print(\"Original dataset size:\", len(pd.read_csv('IoTProcessed_Data.csv')))\n",
    "print(\"Cleaned dataset size:\", len(df))"
   ]
  },
  {
   "cell_type": "code",
   "execution_count": 36,
   "metadata": {},
   "outputs": [
    {
     "name": "stdout",
     "output_type": "stream",
     "text": [
      "\n",
      "Sample of Cleaned Dataset:\n",
      "                 date  tempreature  humidity  water_level    N    P    K  \\\n",
      "0 2024-02-08 06:10:00           41        63          100  255  255  255   \n",
      "1 2024-02-08 06:15:00           41        59          100  255  255  255   \n",
      "2 2024-02-08 06:20:00           41        62          100  255  255  255   \n",
      "3 2024-02-08 06:05:00           40        60          100  255  255  255   \n",
      "4 2024-02-08 06:00:00           39        61          100  255  255  255   \n",
      "\n",
      "   Fan_actuator_OFF  Fan_actuator_ON  Watering_plant_pump_OFF  \\\n",
      "0               0.0              1.0                      1.0   \n",
      "1               0.0              1.0                      1.0   \n",
      "2               0.0              1.0                      1.0   \n",
      "3               0.0              1.0                      1.0   \n",
      "4               0.0              1.0                      1.0   \n",
      "\n",
      "   Watering_plant_pump_ON  Water_pump_actuator_OFF  Water_pump_actuator_ON  \n",
      "0                     0.0                      1.0                     0.0  \n",
      "1                     0.0                      1.0                     0.0  \n",
      "2                     0.0                      1.0                     0.0  \n",
      "3                     0.0                      1.0                     0.0  \n",
      "4                     0.0                      1.0                     0.0  \n"
     ]
    }
   ],
   "source": [
    "# Optional: Display a sample of the cleaned dataset\n",
    "print(\"\\nSample of Cleaned Dataset:\")\n",
    "print(df.head())"
   ]
  }
 ],
 "metadata": {
  "kernelspec": {
   "display_name": "Python 3",
   "language": "python",
   "name": "python3"
  },
  "language_info": {
   "codemirror_mode": {
    "name": "ipython",
    "version": 3
   },
   "file_extension": ".py",
   "mimetype": "text/x-python",
   "name": "python",
   "nbconvert_exporter": "python",
   "pygments_lexer": "ipython3",
   "version": "3.10.12"
  }
 },
 "nbformat": 4,
 "nbformat_minor": 2
}
