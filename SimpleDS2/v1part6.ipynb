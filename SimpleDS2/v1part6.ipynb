{
 "cells": [
  {
   "cell_type": "code",
   "execution_count": 1,
   "metadata": {},
   "outputs": [],
   "source": [
    "import warnings\n",
    "warnings.filterwarnings(\"ignore\")\n",
    "\n",
    "import pandas as pd\n",
    "from sklearn.model_selection import train_test_split\n",
    "from sklearn.preprocessing import LabelEncoder, StandardScaler\n",
    "from sklearn.linear_model import LinearRegression\n",
    "from sklearn.tree import DecisionTreeRegressor\n",
    "from sklearn.metrics import r2_score\n",
    "\n",
    "from sklearn.model_selection import cross_val_score"
   ]
  },
  {
   "cell_type": "code",
   "execution_count": 2,
   "metadata": {},
   "outputs": [],
   "source": [
    "# Load the dataset\n",
    "df = pd.read_csv('Kaggle-Appointment.csv')"
   ]
  },
  {
   "cell_type": "code",
   "execution_count": 5,
   "metadata": {},
   "outputs": [
    {
     "name": "stdout",
     "output_type": "stream",
     "text": [
      "Index(['PatientId', 'AppointmentID', 'Gender', 'ScheduledDay',\n",
      "       'AppointmentDay', 'Age', 'Neighbourhood', 'Scholarship', 'Hipertension',\n",
      "       'Diabetes', 'Alcoholism', 'Handcap', 'SMS_received', 'No-show'],\n",
      "      dtype='object')\n"
     ]
    }
   ],
   "source": [
    "print(df.columns)"
   ]
  },
  {
   "cell_type": "code",
   "execution_count": 6,
   "metadata": {},
   "outputs": [
    {
     "name": "stdout",
     "output_type": "stream",
     "text": [
      "      PatientId  AppointmentID Gender          ScheduledDay  \\\n",
      "0  2.987250e+13        5642903      F  2016-04-29T18:38:08Z   \n",
      "1  5.589978e+14        5642503      M  2016-04-29T16:08:27Z   \n",
      "2  4.262962e+12        5642549      F  2016-04-29T16:19:04Z   \n",
      "3  8.679512e+11        5642828      F  2016-04-29T17:29:31Z   \n",
      "4  8.841186e+12        5642494      F  2016-04-29T16:07:23Z   \n",
      "\n",
      "         AppointmentDay  Age      Neighbourhood  Scholarship  Hipertension  \\\n",
      "0  2016-04-29T00:00:00Z   62    JARDIM DA PENHA            0             1   \n",
      "1  2016-04-29T00:00:00Z   56    JARDIM DA PENHA            0             0   \n",
      "2  2016-04-29T00:00:00Z   62      MATA DA PRAIA            0             0   \n",
      "3  2016-04-29T00:00:00Z    8  PONTAL DE CAMBURI            0             0   \n",
      "4  2016-04-29T00:00:00Z   56    JARDIM DA PENHA            0             1   \n",
      "\n",
      "   Diabetes  Alcoholism  Handcap  SMS_received No-show  \n",
      "0         0           0        0             0      No  \n",
      "1         0           0        0             0      No  \n",
      "2         0           0        0             0      No  \n",
      "3         0           0        0             0      No  \n",
      "4         1           0        0             0      No  \n"
     ]
    }
   ],
   "source": [
    "print(df.head())"
   ]
  },
  {
   "cell_type": "code",
   "execution_count": 3,
   "metadata": {},
   "outputs": [
    {
     "name": "stdout",
     "output_type": "stream",
     "text": [
      "           PatientId  AppointmentID Gender          ScheduledDay  \\\n",
      "110522  2.572134e+12        5651768      F  2016-05-03T09:15:35Z   \n",
      "110523  3.596266e+12        5650093      F  2016-05-03T07:27:33Z   \n",
      "110524  1.557663e+13        5630692      F  2016-04-27T16:03:52Z   \n",
      "110525  9.213493e+13        5630323      F  2016-04-27T15:09:23Z   \n",
      "110526  3.775115e+14        5629448      F  2016-04-27T13:30:56Z   \n",
      "\n",
      "              AppointmentDay  Age Neighbourhood  Scholarship  Hipertension  \\\n",
      "110522  2016-06-07T00:00:00Z   56   MARIA ORTIZ            0             0   \n",
      "110523  2016-06-07T00:00:00Z   51   MARIA ORTIZ            0             0   \n",
      "110524  2016-06-07T00:00:00Z   21   MARIA ORTIZ            0             0   \n",
      "110525  2016-06-07T00:00:00Z   38   MARIA ORTIZ            0             0   \n",
      "110526  2016-06-07T00:00:00Z   54   MARIA ORTIZ            0             0   \n",
      "\n",
      "        Diabetes  Alcoholism  Handcap  SMS_received No-show  \n",
      "110522         0           0        0             1      No  \n",
      "110523         0           0        0             1      No  \n",
      "110524         0           0        0             1      No  \n",
      "110525         0           0        0             1      No  \n",
      "110526         0           0        0             1      No  \n"
     ]
    }
   ],
   "source": [
    "print(df.tail())"
   ]
  },
  {
   "cell_type": "code",
   "execution_count": 7,
   "metadata": {},
   "outputs": [
    {
     "name": "stdout",
     "output_type": "stream",
     "text": [
      "<class 'pandas.core.frame.DataFrame'>\n",
      "RangeIndex: 110527 entries, 0 to 110526\n",
      "Data columns (total 14 columns):\n",
      " #   Column          Non-Null Count   Dtype  \n",
      "---  ------          --------------   -----  \n",
      " 0   PatientId       110527 non-null  float64\n",
      " 1   AppointmentID   110527 non-null  int64  \n",
      " 2   Gender          110527 non-null  object \n",
      " 3   ScheduledDay    110527 non-null  object \n",
      " 4   AppointmentDay  110527 non-null  object \n",
      " 5   Age             110527 non-null  int64  \n",
      " 6   Neighbourhood   110527 non-null  object \n",
      " 7   Scholarship     110527 non-null  int64  \n",
      " 8   Hipertension    110527 non-null  int64  \n",
      " 9   Diabetes        110527 non-null  int64  \n",
      " 10  Alcoholism      110527 non-null  int64  \n",
      " 11  Handcap         110527 non-null  int64  \n",
      " 12  SMS_received    110527 non-null  int64  \n",
      " 13  No-show         110527 non-null  object \n",
      "dtypes: float64(1), int64(8), object(5)\n",
      "memory usage: 11.8+ MB\n",
      "None\n"
     ]
    }
   ],
   "source": [
    "print(df.info())"
   ]
  },
  {
   "cell_type": "code",
   "execution_count": 8,
   "metadata": {},
   "outputs": [
    {
     "name": "stdout",
     "output_type": "stream",
     "text": [
      "          PatientId  AppointmentID            Age    Scholarship  \\\n",
      "count  1.105270e+05   1.105270e+05  110527.000000  110527.000000   \n",
      "mean   1.474963e+14   5.675305e+06      37.088874       0.098266   \n",
      "std    2.560949e+14   7.129575e+04      23.110205       0.297675   \n",
      "min    3.921784e+04   5.030230e+06      -1.000000       0.000000   \n",
      "25%    4.172614e+12   5.640286e+06      18.000000       0.000000   \n",
      "50%    3.173184e+13   5.680573e+06      37.000000       0.000000   \n",
      "75%    9.439172e+13   5.725524e+06      55.000000       0.000000   \n",
      "max    9.999816e+14   5.790484e+06     115.000000       1.000000   \n",
      "\n",
      "        Hipertension       Diabetes     Alcoholism        Handcap  \\\n",
      "count  110527.000000  110527.000000  110527.000000  110527.000000   \n",
      "mean        0.197246       0.071865       0.030400       0.022248   \n",
      "std         0.397921       0.258265       0.171686       0.161543   \n",
      "min         0.000000       0.000000       0.000000       0.000000   \n",
      "25%         0.000000       0.000000       0.000000       0.000000   \n",
      "50%         0.000000       0.000000       0.000000       0.000000   \n",
      "75%         0.000000       0.000000       0.000000       0.000000   \n",
      "max         1.000000       1.000000       1.000000       4.000000   \n",
      "\n",
      "        SMS_received  \n",
      "count  110527.000000  \n",
      "mean        0.321026  \n",
      "std         0.466873  \n",
      "min         0.000000  \n",
      "25%         0.000000  \n",
      "50%         0.000000  \n",
      "75%         1.000000  \n",
      "max         1.000000  \n"
     ]
    }
   ],
   "source": [
    "# Display summary statistics\n",
    "print(df.describe())"
   ]
  },
  {
   "cell_type": "code",
   "execution_count": 3,
   "metadata": {},
   "outputs": [
    {
     "name": "stdout",
     "output_type": "stream",
     "text": [
      "Missing values:\n",
      " PatientId         0\n",
      "AppointmentID     0\n",
      "Gender            0\n",
      "ScheduledDay      0\n",
      "AppointmentDay    0\n",
      "Age               0\n",
      "Neighbourhood     0\n",
      "Scholarship       0\n",
      "Hipertension      0\n",
      "Diabetes          0\n",
      "Alcoholism        0\n",
      "Handcap           0\n",
      "SMS_received      0\n",
      "No-show           0\n",
      "dtype: int64\n"
     ]
    }
   ],
   "source": [
    "# Check for missing values\n",
    "print(\"Missing values:\\n\", df.isnull().sum())"
   ]
  },
  {
   "cell_type": "code",
   "execution_count": 4,
   "metadata": {},
   "outputs": [
    {
     "name": "stdout",
     "output_type": "stream",
     "text": [
      "Distribution of 'No-show':\n",
      " No-show\n",
      "No     88208\n",
      "Yes    22319\n",
      "Name: count, dtype: int64\n"
     ]
    }
   ],
   "source": [
    "# Check the distribution of the target variable 'No-show'\n",
    "print(\"Distribution of 'No-show':\\n\", df['No-show'].value_counts())"
   ]
  },
  {
   "cell_type": "code",
   "execution_count": 5,
   "metadata": {},
   "outputs": [],
   "source": [
    "# Data Preprocessing\n",
    "# Convert 'No-show' column to binary (1 for 'Yes' and 0 for 'No')\n",
    "df['No-show'] = df['No-show'].apply(lambda x: 1 if x == 'Yes' else 0)"
   ]
  },
  {
   "cell_type": "code",
   "execution_count": 6,
   "metadata": {},
   "outputs": [],
   "source": [
    "# Drop unnecessary columns like PatientId, AppointmentID, and Neighbourhood\n",
    "df.drop(['PatientId', 'AppointmentID', 'Neighbourhood'], axis=1, inplace=True)"
   ]
  },
  {
   "cell_type": "code",
   "execution_count": 7,
   "metadata": {},
   "outputs": [],
   "source": [
    "# # Save the cleaned and clustered dataset to a new CSV file\n",
    "df.to_csv('Kaggle-Appointment_cleaned.csv', index=False)"
   ]
  },
  {
   "cell_type": "code",
   "execution_count": 13,
   "metadata": {},
   "outputs": [],
   "source": [
    "# Handle categorical variables\n",
    "label_encoders = {}\n",
    "\n",
    "\n",
    "for col in df.select_dtypes(include=['object']).columns:\n",
    "    label_encoders[col] = LabelEncoder()\n",
    "    df[col] = label_encoders[col].fit_transform(df[col])"
   ]
  },
  {
   "cell_type": "code",
   "execution_count": 14,
   "metadata": {},
   "outputs": [],
   "source": [
    "# Split the dataset into features and target variable\n",
    "X = df.drop('No-show', axis=1)\n",
    "y = df['No-show']"
   ]
  },
  {
   "cell_type": "code",
   "execution_count": 15,
   "metadata": {},
   "outputs": [],
   "source": [
    "# Split the df into training and testing sets\n",
    "X_train, X_test, y_train, y_test = train_test_split(X, y, test_size=0.2, random_state=42)"
   ]
  },
  {
   "cell_type": "code",
   "execution_count": 16,
   "metadata": {},
   "outputs": [
    {
     "name": "stdout",
     "output_type": "stream",
     "text": [
      "['Gender', 'ScheduledDay', 'AppointmentDay', 'Age', 'Scholarship', 'Hipertension', 'Diabetes', 'Alcoholism', 'Handcap', 'SMS_received']\n"
     ]
    }
   ],
   "source": [
    "linear_feature_names = X_train.columns.tolist()\n",
    "print(linear_feature_names)"
   ]
  },
  {
   "cell_type": "markdown",
   "metadata": {},
   "source": [
    "# Model 1: Linear Regression"
   ]
  },
  {
   "cell_type": "code",
   "execution_count": 17,
   "metadata": {},
   "outputs": [],
   "source": [
    "# Model 1: Linear Regression\n",
    "linear_model = LinearRegression()\n",
    "linear_model.fit(X_train, y_train)\n",
    "linear_y_pred = linear_model.predict(X_test)\n",
    "linear_r2 = r2_score(y_test, linear_y_pred)"
   ]
  },
  {
   "cell_type": "code",
   "execution_count": 18,
   "metadata": {},
   "outputs": [
    {
     "name": "stdout",
     "output_type": "stream",
     "text": [
      "Linear Regression R-squared: 0.048357483667870405\n"
     ]
    }
   ],
   "source": [
    "print(f\"Linear Regression R-squared: {linear_r2}\")"
   ]
  },
  {
   "cell_type": "markdown",
   "metadata": {},
   "source": [
    "# Model 2: Decision Tree Regression (CART)"
   ]
  },
  {
   "cell_type": "code",
   "execution_count": 19,
   "metadata": {},
   "outputs": [],
   "source": [
    "tree_model = DecisionTreeRegressor(random_state=42)\n",
    "tree_model.fit(X_train, y_train)\n",
    "tree_y_pred = tree_model.predict(X_test)\n",
    "tree_r2 = r2_score(y_test, tree_y_pred)"
   ]
  },
  {
   "cell_type": "code",
   "execution_count": 20,
   "metadata": {},
   "outputs": [
    {
     "name": "stdout",
     "output_type": "stream",
     "text": [
      "Decision Tree Regression R-squared: -0.6974901442852997\n"
     ]
    }
   ],
   "source": [
    "print(f\"Decision Tree Regression R-squared: {tree_r2}\")"
   ]
  },
  {
   "cell_type": "markdown",
   "metadata": {},
   "source": [
    "# Model Comparison"
   ]
  },
  {
   "cell_type": "code",
   "execution_count": 21,
   "metadata": {},
   "outputs": [
    {
     "name": "stdout",
     "output_type": "stream",
     "text": [
      "Model Comparison:\n",
      "Linear Regression R-squared: 0.048357483667870405\n",
      "Decision Tree Regression R-squared: -0.6974901442852997\n"
     ]
    }
   ],
   "source": [
    "print(\"Model Comparison:\")\n",
    "print(f\"Linear Regression R-squared: {linear_r2}\")\n",
    "print(f\"Decision Tree Regression R-squared: {tree_r2}\")"
   ]
  },
  {
   "cell_type": "code",
   "execution_count": 22,
   "metadata": {},
   "outputs": [],
   "source": [
    "from datetime import datetime"
   ]
  },
  {
   "cell_type": "code",
   "execution_count": 23,
   "metadata": {},
   "outputs": [],
   "source": [
    "# Make predictions using both models on new predictors\n",
    "new_predictors = pd.DataFrame({\n",
    "    'Gender': [0, 1],\n",
    "    'ScheduledDay': ['2024-04-29T00:00:00Z', '2024-04-29T00:00:00Z'],  \n",
    "    'AppointmentDay': ['2024-04-29T18:38:08Z', '2024-04-29T16:08:27Z'],  \n",
    "    'Age': [30, 45],\n",
    "    'Scholarship': [1, 0],\n",
    "    'Hipertension': [0, 1],\n",
    "    'Diabetes': [1, 0],\n",
    "    'Alcoholism': [0, 0],\n",
    "    'Handcap': [0, 1],\n",
    "    'SMS_received': [1, 1]\n",
    "}, columns=['Gender', 'ScheduledDay', 'AppointmentDay', 'Age', 'Scholarship', 'Hipertension', 'Diabetes', 'Alcoholism', 'Handcap', 'SMS_received'])"
   ]
  },
  {
   "cell_type": "code",
   "execution_count": 24,
   "metadata": {},
   "outputs": [],
   "source": [
    "# Convert ISO format to Unix timestamp format for model compatibility\n",
    "new_predictors['AppointmentDay'] = pd.to_datetime(new_predictors['AppointmentDay']).astype(int) / 10**9\n",
    "new_predictors['ScheduledDay'] = pd.to_datetime(new_predictors['ScheduledDay']).astype(int) / 10**9"
   ]
  },
  {
   "cell_type": "code",
   "execution_count": 25,
   "metadata": {},
   "outputs": [],
   "source": [
    "# Encode categorical variables in new predictors\n",
    "for col in new_predictors.select_dtypes(include=['object']).columns:\n",
    "    if col in label_encoders:\n",
    "        new_predictors[col] = label_encoders[col].transform(new_predictors[col])"
   ]
  },
  {
   "cell_type": "code",
   "execution_count": 26,
   "metadata": {},
   "outputs": [],
   "source": [
    "# Make predictions using both models\n",
    "linear_new_pred = linear_model.predict(new_predictors)\n",
    "tree_new_pred = tree_model.predict(new_predictors)"
   ]
  },
  {
   "cell_type": "code",
   "execution_count": 27,
   "metadata": {},
   "outputs": [
    {
     "name": "stdout",
     "output_type": "stream",
     "text": [
      "\n",
      "Predictions using Linear Regression:\n",
      "[15730809.66850501 15730727.16734266]\n",
      "\n",
      "Predictions using Decision Tree Regression:\n",
      "[1. 1.]\n"
     ]
    }
   ],
   "source": [
    "print(\"\\nPredictions using Linear Regression:\")\n",
    "print(linear_new_pred)\n",
    "print(\"\\nPredictions using Decision Tree Regression:\")\n",
    "print(tree_new_pred)"
   ]
  },
  {
   "cell_type": "markdown",
   "metadata": {},
   "source": [
    "# Linear Regression:\n",
    "Prediction 1: 15730809.67\n",
    "Prediction 2: 15730727.17\n",
    "\n",
    "# Decision Tree Regression:\n",
    "Prediction 1: 1\n",
    "Prediction 2: 1"
   ]
  },
  {
   "cell_type": "markdown",
   "metadata": {},
   "source": [
    "Linear regression predicts numerical values, in this case, the predictions are large numerical values. These predictions don't directly represent whether a patient will show up for their appointment or not. "
   ]
  },
  {
   "cell_type": "markdown",
   "metadata": {},
   "source": [
    "Decision tree regression predicts categorical values, often in the form of classes or categories. In this case, the predictions are binary (1 or 0). Since the target variable ('No-show') is transformed into binary form (1 for 'Yes' and 0 for 'No'), the decision tree model predicts whether a patient will show up for the appointment (1) or not (0) based on the input features."
   ]
  },
  {
   "cell_type": "markdown",
   "metadata": {},
   "source": [
    "In summary, the linear regression model predicts numerical values that don't directly indicate whether a patient will show up or not, while the decision tree regression model predicts binary outcomes representing the likelihood of a patient showing up for the appointment."
   ]
  },
  {
   "cell_type": "code",
   "execution_count": 28,
   "metadata": {},
   "outputs": [
    {
     "name": "stdout",
     "output_type": "stream",
     "text": [
      "Linear Regression Cross-Validation R-squared Scores:\n",
      "[0.03968627 0.07628993 0.06333528 0.06593845 0.03034069 0.05984338\n",
      " 0.0549876  0.06907902 0.02631173 0.04161396]\n",
      "Mean R-squared: 0.05274263108488375\n"
     ]
    }
   ],
   "source": [
    "# Perform 10-fold cross-validation for Linear Regression\n",
    "linear_cv_scores = cross_val_score(linear_model, X, y, cv=10, scoring='r2')\n",
    "print(\"Linear Regression Cross-Validation R-squared Scores:\")\n",
    "print(linear_cv_scores)\n",
    "print(f\"Mean R-squared: {linear_cv_scores.mean()}\")"
   ]
  },
  {
   "cell_type": "code",
   "execution_count": 29,
   "metadata": {},
   "outputs": [
    {
     "name": "stdout",
     "output_type": "stream",
     "text": [
      "\n",
      "Decision Tree Regression Cross-Validation R-squared Scores:\n",
      "[-1.01271359 -0.81032999 -0.79154499 -0.78506757 -0.73155538 -0.76555429\n",
      " -0.80466516 -0.76521364 -0.91875305 -0.82176083]\n",
      "Mean R-squared: -0.8207158504961505\n"
     ]
    }
   ],
   "source": [
    "# Perform 10-fold cross-validation for Decision Tree Regression\n",
    "tree_cv_scores = cross_val_score(tree_model, X, y, cv=10, scoring='r2')\n",
    "print(\"\\nDecision Tree Regression Cross-Validation R-squared Scores:\")\n",
    "print(tree_cv_scores)\n",
    "print(f\"Mean R-squared: {tree_cv_scores.mean()}\")"
   ]
  }
 ],
 "metadata": {
  "kernelspec": {
   "display_name": "Python 3",
   "language": "python",
   "name": "python3"
  },
  "language_info": {
   "codemirror_mode": {
    "name": "ipython",
    "version": 3
   },
   "file_extension": ".py",
   "mimetype": "text/x-python",
   "name": "python",
   "nbconvert_exporter": "python",
   "pygments_lexer": "ipython3",
   "version": "3.10.12"
  }
 },
 "nbformat": 4,
 "nbformat_minor": 2
}
