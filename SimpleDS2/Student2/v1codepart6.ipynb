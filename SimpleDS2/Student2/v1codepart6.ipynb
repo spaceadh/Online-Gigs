{
 "cells": [
  {
   "cell_type": "code",
   "execution_count": 1,
   "metadata": {
    "metadata": {}
   },
   "outputs": [],
   "source": [
    "import warnings\n",
    "warnings.filterwarnings(\"ignore\")\n",
    "\n",
    "import pandas as pd\n",
    "from sklearn.model_selection import train_test_split\n",
    "from sklearn.preprocessing import LabelEncoder, StandardScaler\n",
    "from sklearn.linear_model import LinearRegression\n",
    "from sklearn.tree import DecisionTreeRegressor\n",
    "from sklearn.metrics import r2_score\n",
    "\n",
    "from sklearn.model_selection import cross_val_score"
   ]
  },
  {
   "cell_type": "code",
   "execution_count": 3,
   "metadata": {
    "metadata": {}
   },
   "outputs": [],
   "source": [
    "# Load the dataset\n",
    "df = pd.read_csv('incomvseducation.csv')"
   ]
  },
  {
   "cell_type": "code",
   "execution_count": 4,
   "metadata": {
    "metadata": {}
   },
   "outputs": [
    {
     "name": "stdout",
     "output_type": "stream",
     "text": [
      "Index(['_id', 'YEAR', 'Geography', 'Type of work', 'Wages', 'Education level',\n",
      "       'Age group', 'Both Sexes', 'Male', 'Female'],\n",
      "      dtype='object')\n"
     ]
    }
   ],
   "source": [
    "print(df.columns)"
   ]
  },
  {
   "cell_type": "code",
   "execution_count": 5,
   "metadata": {
    "metadata": {}
   },
   "outputs": [
    {
     "name": "stdout",
     "output_type": "stream",
     "text": [
      "(425040, 10)\n"
     ]
    }
   ],
   "source": [
    "print(df.shape)"
   ]
  },
  {
   "cell_type": "code",
   "execution_count": 6,
   "metadata": {
    "metadata": {}
   },
   "outputs": [
    {
     "name": "stdout",
     "output_type": "stream",
     "text": [
      "   _id  YEAR Geography              Type of work            Wages  \\\n",
      "0    1  1997    Canada  Both full- and part-time  Total employees   \n",
      "1    2  1997    Canada  Both full- and part-time  Total employees   \n",
      "2    3  1997    Canada  Both full- and part-time  Total employees   \n",
      "3    4  1997    Canada  Both full- and part-time  Total employees   \n",
      "4    5  1997    Canada  Both full- and part-time  Total employees   \n",
      "\n",
      "               Education level           Age group  Both Sexes    Male  Female  \n",
      "0  Total, all education levels  15 years and over      11364.5  5954.5  5410.0  \n",
      "1  Total, all education levels         15-24 years      1877.8   983.1   894.7  \n",
      "2  Total, all education levels         20-34 years      4274.9  2244.3  2030.6  \n",
      "3  Total, all education levels   25 years and over      9486.7  4971.4  4515.3  \n",
      "4  Total, all education levels         25-34 years      3047.9  1602.2  1445.7  \n"
     ]
    }
   ],
   "source": [
    "# Explore the data\n",
    "print(df.head())"
   ]
  },
  {
   "cell_type": "code",
   "execution_count": 7,
   "metadata": {
    "metadata": {}
   },
   "outputs": [
    {
     "name": "stdout",
     "output_type": "stream",
     "text": [
      "           _id  YEAR         Geography   Type of work  \\\n",
      "425035  425036  2019  British Columbia     Part-time    \n",
      "425036  425037  2019  British Columbia     Part-time    \n",
      "425037  425038  2019  British Columbia     Part-time    \n",
      "425038  425039  2019  British Columbia     Part-time    \n",
      "425039  425040  2019  British Columbia     Part-time    \n",
      "\n",
      "                          Wages      Education level          Age group  \\\n",
      "425035  Median weekly wage rate  No PSE  (0,1,2,3,4)  25 years and over   \n",
      "425036  Median weekly wage rate  No PSE  (0,1,2,3,4)        25-34 years   \n",
      "425037  Median weekly wage rate  No PSE  (0,1,2,3,4)        25-54 years   \n",
      "425038  Median weekly wage rate  No PSE  (0,1,2,3,4)        25-64 years   \n",
      "425039  Median weekly wage rate  No PSE  (0,1,2,3,4)  55 years and over   \n",
      "\n",
      "        Both Sexes   Male  Female  \n",
      "425035      331.25  320.0   336.0  \n",
      "425036      308.00  300.0   316.8  \n",
      "425037      346.25  320.0   360.0  \n",
      "425038      346.20  336.0   348.3  \n",
      "425039      300.00  324.0   300.0  \n"
     ]
    }
   ],
   "source": [
    "# Explore the data\n",
    "print(df.tail())"
   ]
  },
  {
   "cell_type": "code",
   "execution_count": 8,
   "metadata": {
    "metadata": {}
   },
   "outputs": [
    {
     "name": "stdout",
     "output_type": "stream",
     "text": [
      "                 _id           YEAR     Both Sexes           Male  \\\n",
      "count  425040.000000  425040.000000  425040.000000  425040.000000   \n",
      "mean   212520.500000    2008.000000     281.968049     271.540792   \n",
      "std    122698.623546       6.633257     480.788912     415.794503   \n",
      "min         1.000000    1997.000000       0.000000       0.000000   \n",
      "25%    106260.750000    2002.000000      14.960000      11.780000   \n",
      "50%    212520.500000    2008.000000      28.850000      24.425000   \n",
      "75%    318780.250000    2014.000000     482.790000     488.922500   \n",
      "max    425040.000000    2019.000000   16153.000000    8166.900000   \n",
      "\n",
      "              Female  \n",
      "count  425040.000000  \n",
      "mean      224.783368  \n",
      "std       335.897431  \n",
      "min         0.000000  \n",
      "25%        12.200000  \n",
      "50%        23.630000  \n",
      "75%       391.785000  \n",
      "max      7986.100000  \n"
     ]
    }
   ],
   "source": [
    "print(df.describe())"
   ]
  },
  {
   "cell_type": "code",
   "execution_count": 9,
   "metadata": {
    "metadata": {}
   },
   "outputs": [
    {
     "name": "stdout",
     "output_type": "stream",
     "text": [
      "<class 'pandas.core.frame.DataFrame'>\n",
      "RangeIndex: 425040 entries, 0 to 425039\n",
      "Data columns (total 10 columns):\n",
      " #   Column           Non-Null Count   Dtype  \n",
      "---  ------           --------------   -----  \n",
      " 0   _id              425040 non-null  int64  \n",
      " 1   YEAR             425040 non-null  int64  \n",
      " 2   Geography        425040 non-null  object \n",
      " 3   Type of work     425040 non-null  object \n",
      " 4   Wages            425040 non-null  object \n",
      " 5   Education level  425040 non-null  object \n",
      " 6   Age group        425040 non-null  object \n",
      " 7   Both Sexes       425040 non-null  float64\n",
      " 8   Male             425040 non-null  float64\n",
      " 9   Female           425040 non-null  float64\n",
      "dtypes: float64(3), int64(2), object(5)\n",
      "memory usage: 32.4+ MB\n",
      "None\n"
     ]
    }
   ],
   "source": [
    "print(df.info())"
   ]
  },
  {
   "cell_type": "code",
   "execution_count": 10,
   "metadata": {
    "metadata": {}
   },
   "outputs": [
    {
     "name": "stdout",
     "output_type": "stream",
     "text": [
      "Duplicate Rows: 0\n"
     ]
    }
   ],
   "source": [
    "# Count duplicate rows in the DataFrame\n",
    "duplicate_count = df.duplicated().sum()\n",
    "\n",
    "# Print the count of duplicate rows\n",
    "print(\"Duplicate Rows:\", duplicate_count)\n",
    "\n",
    "# Drop duplicates\n",
    "df.drop_duplicates(inplace=True)"
   ]
  },
  {
   "cell_type": "code",
   "execution_count": 11,
   "metadata": {
    "metadata": {}
   },
   "outputs": [
    {
     "name": "stdout",
     "output_type": "stream",
     "text": [
      "\n",
      "Missing Values:\n",
      "_id                0\n",
      "YEAR               0\n",
      "Geography          0\n",
      "Type of work       0\n",
      "Wages              0\n",
      "Education level    0\n",
      "Age group          0\n",
      "Both Sexes         0\n",
      "Male               0\n",
      "Female             0\n",
      "dtype: int64\n"
     ]
    }
   ],
   "source": [
    "# Check for missing values\n",
    "print(\"\\nMissing Values:\")\n",
    "print(df.isnull().sum())\n",
    "df.dropna(inplace=True)"
   ]
  },
  {
   "cell_type": "code",
   "execution_count": 12,
   "metadata": {},
   "outputs": [],
   "source": [
    "# Encode categorical variables\n",
    "encoders = {}\n",
    "for col in df.select_dtypes(include=['object']).columns:\n",
    "    encoders[col] = LabelEncoder()\n",
    "    df[col] = encoders[col].fit_transform(df[col])"
   ]
  },
  {
   "cell_type": "code",
   "execution_count": 13,
   "metadata": {},
   "outputs": [],
   "source": [
    "# Create a new set of predictors\n",
    "X = df[['YEAR', 'Geography', 'Type of work', 'Education level', 'Age group', 'Both Sexes', 'Male', 'Female']]\n",
    "y = df['Wages']"
   ]
  },
  {
   "cell_type": "code",
   "execution_count": 14,
   "metadata": {},
   "outputs": [],
   "source": [
    "# Standardize numerical features\n",
    "scaler = StandardScaler()\n",
    "X_scaled = scaler.fit_transform(X)"
   ]
  },
  {
   "cell_type": "code",
   "execution_count": 36,
   "metadata": {},
   "outputs": [],
   "source": [
    "# Split the data into training and testing sets\n",
    "X_train, X_test, y_train, y_test = train_test_split(X_scaled, y, test_size=0.2, random_state=42)"
   ]
  },
  {
   "cell_type": "markdown",
   "metadata": {},
   "source": [
    "# Train Linear Regression model"
   ]
  },
  {
   "cell_type": "code",
   "execution_count": 37,
   "metadata": {},
   "outputs": [
    {
     "name": "stdout",
     "output_type": "stream",
     "text": [
      "Linear Regression R-squared: 0.027807336966215956\n"
     ]
    }
   ],
   "source": [
    "# Model 1: Linear Regression\n",
    "linear_reg_model = LinearRegression()\n",
    "linear_reg_model.fit(X_train, y_train)\n",
    "linear_y_pred = linear_reg_model.predict(X_test)\n",
    "linear_r2 = r2_score(y_test, linear_y_pred)\n",
    "print(f\"Linear Regression R-squared: {linear_r2}\")"
   ]
  },
  {
   "cell_type": "code",
   "execution_count": 20,
   "metadata": {},
   "outputs": [
    {
     "name": "stdout",
     "output_type": "stream",
     "text": [
      "Linear Regression RMSE Scores:\n",
      "[1.38989528 1.39707074 1.39844314 1.39685623 1.40101558 1.39529841\n",
      " 1.38978335 1.39970537 1.39220097 1.39460189]\n",
      "Average RMSE: 1.3954870961601642\n"
     ]
    }
   ],
   "source": [
    "# K-Fold Cross-Validation\n",
    "# K = 10\n",
    "linear_reg_model = LinearRegression()\n",
    "linear_reg_scores = cross_val_score(linear_reg_model, X_train, y_train, cv=10, scoring='neg_mean_squared_error')\n",
    "linear_reg_rmse_scores = (-linear_reg_scores)**0.5\n",
    "print(\"Linear Regression RMSE Scores:\")\n",
    "print(linear_reg_rmse_scores)\n",
    "print(f\"Average RMSE: {linear_reg_rmse_scores.mean()}\")"
   ]
  },
  {
   "cell_type": "markdown",
   "metadata": {},
   "source": [
    "# Train Decision Tree Regression model"
   ]
  },
  {
   "cell_type": "code",
   "execution_count": 21,
   "metadata": {},
   "outputs": [
    {
     "name": "stdout",
     "output_type": "stream",
     "text": [
      "Decision Tree Regression R-squared: 0.6365067737816661\n"
     ]
    }
   ],
   "source": [
    "tree_reg_model = DecisionTreeRegressor(random_state=42)\n",
    "tree_reg_model.fit(X_train, y_train)\n",
    "tree_y_pred = tree_reg_model.predict(X_test)\n",
    "tree_r2 = r2_score(y_test, tree_y_pred)\n",
    "print(f\"Decision Tree Regression R-squared: {tree_r2}\")"
   ]
  },
  {
   "cell_type": "code",
   "execution_count": 17,
   "metadata": {},
   "outputs": [
    {
     "name": "stdout",
     "output_type": "stream",
     "text": [
      "\n",
      "Decision Tree Regression RMSE Scores:\n",
      "[0.85728957 0.86926538 0.8643623  0.87834337 0.87543592 0.87001322\n",
      " 0.86087702 0.86689057 0.88122651 0.87757107]\n",
      "Average RMSE: 0.8701274919374402\n"
     ]
    }
   ],
   "source": [
    "# K-Fold Cross-Validation\n",
    "# K = 10\n",
    "tree_reg_model = DecisionTreeRegressor(random_state=42)\n",
    "tree_reg_scores = cross_val_score(tree_reg_model, X_train, y_train, cv=10, scoring='neg_mean_squared_error')\n",
    "tree_reg_rmse_scores = (-tree_reg_scores)**0.5\n",
    "print(\"\\nDecision Tree Regression RMSE Scores:\")\n",
    "print(tree_reg_rmse_scores)\n",
    "print(f\"Average RMSE: {tree_reg_rmse_scores.mean()}\")"
   ]
  },
  {
   "cell_type": "code",
   "execution_count": 22,
   "metadata": {},
   "outputs": [
    {
     "name": "stdout",
     "output_type": "stream",
     "text": [
      "Model Comparison:\n",
      "Linear Regression R-squared: 0.027807336966215956\n",
      "Decision Tree Regression R-squared: 0.6365067737816661\n"
     ]
    }
   ],
   "source": [
    "print(\"Model Comparison for R-squared:\")\n",
    "print(f\"Linear Regression R-squared: {linear_r2}\")\n",
    "print(f\"Decision Tree Regression R-squared: {tree_r2}\")"
   ]
  },
  {
   "cell_type": "code",
   "execution_count": 23,
   "metadata": {},
   "outputs": [
    {
     "name": "stdout",
     "output_type": "stream",
     "text": [
      "Model Comparison (10-Fold Cross-Validation):\n",
      "Linear Regression (10-Fold Cross-Validation): 1.3954870961601642\n",
      "Decision Tree Regression (10-Fold Cross-Validation): 0.8701274919374402\n"
     ]
    }
   ],
   "source": [
    "print(\"Model Comparison (10-Fold Cross-Validation):\")\n",
    "print(f\"Linear Regression (10-Fold Cross-Validation): {linear_reg_rmse_scores.mean()}\")\n",
    "print(f\"Decision Tree Regression (10-Fold Cross-Validation): {tree_reg_rmse_scores.mean()}\")"
   ]
  },
  {
   "cell_type": "markdown",
   "metadata": {},
   "source": [
    "The results show that the Decision Tree Regression model outperforms Linear Regression in terms of R-squared and RMSE scores. \n",
    "The Decision Tree Regression model has a higher R-squared value (0.6365) compared to Linear Regression (0.0278), indicating that it explains more variance in the target variable (Wages). \n",
    "Additionally, the Decision Tree Regression model has a lower average RMSE (0.8701) compared to Linear Regression (1.3955) during 10-fold cross-validation, indicating better predictive accuracy.\n",
    "\n",
    "The Decision Tree Regression model is likely performing better because it can capture non-linear relationships between predictors and the target variable, whereas Linear Regression assumes a linear relationship.\n",
    "\n",
    "However, Decision Tree models can also be prone to overfitting, so it's essential to consider the trade-offs between model complexity and performance."
   ]
  },
  {
   "cell_type": "code",
   "execution_count": 32,
   "metadata": {},
   "outputs": [],
   "source": [
    "# Create a new set of records\n",
    "new_records = pd.DataFrame({\n",
    "    'YEAR': [1997, 2000, 2019],\n",
    "    'Geography': ['Canada', 'British Columbia', 'Canada'],\n",
    "    'Type of work': ['Both full- and part-time', 'Both full- and part-time', 'Both full- and part-time'],\n",
    "    'Education level': ['Total, all education levels', 'No PSE  (0,1,2,3,4)', 'No PSE  (0,1,2,3,4)'],\n",
    "    'Age group': ['25 years and over', '15-24 years', '25-54 years'],\n",
    "    'Both Sexes': [2500, 1800, 3200],\n",
    "    'Male': [1300, 900, 1600],\n",
    "    'Female': [1200, 900, 1600]\n",
    "})"
   ]
  },
  {
   "cell_type": "code",
   "execution_count": 33,
   "metadata": {},
   "outputs": [],
   "source": [
    "# Encode categorical variables in new records using the same label encoder as for training data\n",
    "for col in new_records.select_dtypes(include=['object']).columns:\n",
    "    if col in encoders:\n",
    "        new_records[col] = encoders[col].transform(new_records[col])"
   ]
  },
  {
   "cell_type": "code",
   "execution_count": 34,
   "metadata": {},
   "outputs": [],
   "source": [
    "# Standardize numerical features in new records\n",
    "new_records_scaled = scaler.transform(new_records)"
   ]
  },
  {
   "cell_type": "code",
   "execution_count": 38,
   "metadata": {},
   "outputs": [],
   "source": [
    "# Make predictions using the Linear Regression model\n",
    "linear_reg_predictions = linear_reg_model.predict(new_records_scaled)"
   ]
  },
  {
   "cell_type": "code",
   "execution_count": 39,
   "metadata": {},
   "outputs": [
    {
     "name": "stdout",
     "output_type": "stream",
     "text": [
      "Linear Regression Predictions: [3.44658169 3.04010716 3.8829657 ]\n"
     ]
    }
   ],
   "source": [
    "# Print the predictions\n",
    "print(\"Linear Regression Predictions:\", linear_reg_predictions)"
   ]
  },
  {
   "cell_type": "code",
   "execution_count": 40,
   "metadata": {},
   "outputs": [],
   "source": [
    "# Make predictions using the Decision Tree Regression model\n",
    "tree_reg_predictions = tree_reg_model.predict(new_records_scaled)"
   ]
  },
  {
   "cell_type": "code",
   "execution_count": 41,
   "metadata": {},
   "outputs": [
    {
     "name": "stdout",
     "output_type": "stream",
     "text": [
      "Decision Tree Regression Predictions: [4. 4. 4.]\n"
     ]
    }
   ],
   "source": [
    "print(\"Decision Tree Regression Predictions:\", tree_reg_predictions)"
   ]
  },
  {
   "cell_type": "markdown",
   "metadata": {},
   "source": [
    "# Prediction Comparison\n",
    "The predictions from the Decision Tree Regression model are all rounded to 4, indicating a consistent prediction for all new records.\n",
    "The predictions from the Linear Regression model are more varied, with different values for each new record."
   ]
  }
 ],
 "metadata": {
  "kernelspec": {
   "display_name": "Python 3",
   "language": "python",
   "name": "python3"
  },
  "language_info": {
   "codemirror_mode": {
    "name": "ipython",
    "version": 3
   },
   "file_extension": ".py",
   "mimetype": "text/x-python",
   "name": "python",
   "nbconvert_exporter": "python",
   "pygments_lexer": "ipython3",
   "version": "3.10.12"
  }
 },
 "nbformat": 4,
 "nbformat_minor": 2
}
