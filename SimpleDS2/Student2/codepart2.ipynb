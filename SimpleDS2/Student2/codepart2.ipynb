{
 "cells": [
  {
   "cell_type": "code",
   "execution_count": 1,
   "metadata": {
    "metadata": {}
   },
   "outputs": [],
   "source": [
    "import pandas as pd\n",
    "import warnings\n",
    "warnings.filterwarnings(\"ignore\")"
   ]
  },
  {
   "cell_type": "code",
   "execution_count": 2,
   "metadata": {
    "metadata": {}
   },
   "outputs": [],
   "source": [
    "# Load the dataset\n",
    "df = pd.read_csv('2018-2019_Daily_Attendance.csv')"
   ]
  },
  {
   "cell_type": "code",
   "execution_count": 3,
   "metadata": {
    "metadata": {}
   },
   "outputs": [
    {
     "name": "stdout",
     "output_type": "stream",
     "text": [
      "(277153, 6)\n"
     ]
    }
   ],
   "source": [
    "# Print number of rows and columns\n",
    "print(df.shape)"
   ]
  },
  {
   "cell_type": "code",
   "execution_count": 11,
   "metadata": {
    "metadata": {}
   },
   "outputs": [
    {
     "name": "stdout",
     "output_type": "stream",
     "text": [
      "Index(['School DBN', 'Date', 'Enrolled', 'Absent', 'Present', 'Released'], dtype='object')\n"
     ]
    }
   ],
   "source": [
    "# Print the columns of the DataFrame\n",
    "print(df.columns)"
   ]
  },
  {
   "cell_type": "code",
   "execution_count": 4,
   "metadata": {
    "metadata": {}
   },
   "outputs": [
    {
     "name": "stdout",
     "output_type": "stream",
     "text": [
      "  School DBN      Date  Enrolled  Absent  Present  Released\n",
      "0     01M015  20180905       172      19      153         0\n",
      "1     01M015  20180906       171      17      154         0\n",
      "2     01M015  20180907       172      14      158         0\n",
      "3     01M015  20180912       173       7      166         0\n",
      "4     01M015  20180913       173       9      164         0\n"
     ]
    }
   ],
   "source": [
    "# Print First 5 rows\n",
    "print(df.head())"
   ]
  },
  {
   "cell_type": "code",
   "execution_count": 5,
   "metadata": {
    "metadata": {}
   },
   "outputs": [
    {
     "name": "stdout",
     "output_type": "stream",
     "text": [
      "       School DBN      Date  Enrolled  Absent  Present  Released\n",
      "277148     79X695  20190620       230      46      136        48\n",
      "277149     79X695  20190621       226      53      128        45\n",
      "277150     79X695  20190624       226      42      130        54\n",
      "277151     79X695  20190625       226      56      127        43\n",
      "277152     79X695  20190626       216      27       68       121\n"
     ]
    }
   ],
   "source": [
    "# Print First 5 rows\n",
    "print(df.tail())"
   ]
  },
  {
   "cell_type": "code",
   "execution_count": 6,
   "metadata": {
    "metadata": {}
   },
   "outputs": [
    {
     "name": "stdout",
     "output_type": "stream",
     "text": [
      "Dataset Information:\n",
      "<class 'pandas.core.frame.DataFrame'>\n",
      "RangeIndex: 277153 entries, 0 to 277152\n",
      "Data columns (total 6 columns):\n",
      " #   Column      Non-Null Count   Dtype \n",
      "---  ------      --------------   ----- \n",
      " 0   School DBN  277153 non-null  object\n",
      " 1   Date        277153 non-null  int64 \n",
      " 2   Enrolled    277153 non-null  int64 \n",
      " 3   Absent      277153 non-null  int64 \n",
      " 4   Present     277153 non-null  int64 \n",
      " 5   Released    277153 non-null  int64 \n",
      "dtypes: int64(5), object(1)\n",
      "memory usage: 12.7+ MB\n",
      "None\n"
     ]
    }
   ],
   "source": [
    "# Display basic information about the dataset\n",
    "print(\"Dataset Information:\")\n",
    "print(df.info())"
   ]
  },
  {
   "cell_type": "code",
   "execution_count": 7,
   "metadata": {
    "metadata": {}
   },
   "outputs": [
    {
     "name": "stdout",
     "output_type": "stream",
     "text": [
      "Duplicate Rows: 0\n"
     ]
    }
   ],
   "source": [
    "# Count duplicate rows in the DataFrame\n",
    "duplicate_count = df.duplicated().sum()\n",
    "\n",
    "# Print the count of duplicate rows\n",
    "print(\"Duplicate Rows:\", duplicate_count)"
   ]
  },
  {
   "cell_type": "code",
   "execution_count": 8,
   "metadata": {
    "metadata": {}
   },
   "outputs": [
    {
     "name": "stdout",
     "output_type": "stream",
     "text": [
      "\n",
      "Missing Values:\n",
      "School DBN    0\n",
      "Date          0\n",
      "Enrolled      0\n",
      "Absent        0\n",
      "Present       0\n",
      "Released      0\n",
      "dtype: int64\n"
     ]
    }
   ],
   "source": [
    "# Check for missing values after cleaning.\n",
    "print(\"\\nMissing Values:\")\n",
    "print(df.isnull().sum())"
   ]
  },
  {
   "cell_type": "code",
   "execution_count": 13,
   "metadata": {
    "metadata": {}
   },
   "outputs": [
    {
     "name": "stdout",
     "output_type": "stream",
     "text": [
      "(277153, 6)\n"
     ]
    }
   ],
   "source": [
    "# Print column and row numbers\n",
    "print(df.shape)"
   ]
  },
  {
   "cell_type": "code",
   "execution_count": 15,
   "metadata": {
    "metadata": {}
   },
   "outputs": [],
   "source": [
    "# Save the cleaned dataset to a new CSV file\n",
    "df.to_csv('Cleaned_2018-2019_Daily_Attendance.csv', index=False)"
   ]
  },
  {
   "cell_type": "code",
   "execution_count": 14,
   "metadata": {
    "metadata": {}
   },
   "outputs": [
    {
     "name": "stdout",
     "output_type": "stream",
     "text": [
      "\n",
      "Summary Report:\n",
      "Original dataset size: 277153\n",
      "Cleaned dataset size: 277153\n"
     ]
    }
   ],
   "source": [
    "# Summary report\n",
    "print(\"\\nSummary Report:\")\n",
    "print(\"Original dataset size:\", len(pd.read_csv('2018-2019_Daily_Attendance.csv')))\n",
    "print(\"Cleaned dataset size:\", len(df))"
   ]
  }
 ],
 "metadata": {
  "kernelspec": {
   "display_name": "Python 3",
   "language": "python",
   "name": "python3"
  },
  "language_info": {
   "codemirror_mode": {
    "name": "ipython",
    "version": 3
   },
   "file_extension": ".py",
   "mimetype": "text/x-python",
   "name": "python",
   "nbconvert_exporter": "python",
   "pygments_lexer": "ipython3",
   "version": "3.10.12"
  }
 },
 "nbformat": 4,
 "nbformat_minor": 2
}
