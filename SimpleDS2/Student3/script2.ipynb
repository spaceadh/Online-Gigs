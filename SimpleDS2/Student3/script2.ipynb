{
 "cells": [
  {
   "cell_type": "code",
   "execution_count": 1,
   "metadata": {
    "metadata": {}
   },
   "outputs": [],
   "source": [
    "import pandas as pd\n",
    "import warnings\n",
    "warnings.filterwarnings(\"ignore\")"
   ]
  },
  {
   "cell_type": "code",
   "execution_count": 2,
   "metadata": {
    "metadata": {}
   },
   "outputs": [],
   "source": [
    "# Load the dataset\n",
    "df = pd.read_csv('AIDS_Classification.csv')"
   ]
  },
  {
   "cell_type": "code",
   "execution_count": 3,
   "metadata": {
    "metadata": {}
   },
   "outputs": [
    {
     "name": "stdout",
     "output_type": "stream",
     "text": [
      "(50000, 23)\n"
     ]
    }
   ],
   "source": [
    "# Print number of rows and columns\n",
    "print(df.shape)"
   ]
  },
  {
   "cell_type": "code",
   "execution_count": 4,
   "metadata": {
    "metadata": {}
   },
   "outputs": [
    {
     "name": "stdout",
     "output_type": "stream",
     "text": [
      "Index(['time', 'trt', 'age', 'wtkg', 'hemo', 'homo', 'drugs', 'karnof',\n",
      "       'oprior', 'z30', 'preanti', 'race', 'gender', 'str2', 'strat',\n",
      "       'symptom', 'treat', 'offtrt', 'cd40', 'cd420', 'cd80', 'cd820',\n",
      "       'infected'],\n",
      "      dtype='object')\n"
     ]
    }
   ],
   "source": [
    "# Print the columns of the DataFrame\n",
    "print(df.columns)"
   ]
  },
  {
   "cell_type": "code",
   "execution_count": 5,
   "metadata": {
    "metadata": {}
   },
   "outputs": [
    {
     "name": "stdout",
     "output_type": "stream",
     "text": [
      "   time  trt  age       wtkg  hemo  homo  drugs  karnof  oprior  z30  ...  \\\n",
      "0  1073    1   37   79.46339     0     1      0     100       0    1  ...   \n",
      "1   324    0   33   73.02314     0     1      0      90       0    1  ...   \n",
      "2   495    1   43   69.47793     0     1      0     100       0    1  ...   \n",
      "3  1201    3   42   89.15934     0     1      0     100       1    1  ...   \n",
      "4   934    0   37  137.46581     0     1      0     100       0    0  ...   \n",
      "\n",
      "   str2  strat  symptom  treat  offtrt  cd40  cd420  cd80  cd820  infected  \n",
      "0     1      2        0      1       0   322    469   882    754         1  \n",
      "1     1      3        1      1       1   168    575  1035   1525         1  \n",
      "2     1      1        0      0       0   377    333  1147   1088         1  \n",
      "3     1      3        0      0       0   238    324   775   1019         1  \n",
      "4     0      3        0      0       1   500    443  1601    849         0  \n",
      "\n",
      "[5 rows x 23 columns]\n"
     ]
    }
   ],
   "source": [
    "# Print First 5 rows\n",
    "print(df.head())"
   ]
  },
  {
   "cell_type": "code",
   "execution_count": 6,
   "metadata": {
    "metadata": {}
   },
   "outputs": [
    {
     "name": "stdout",
     "output_type": "stream",
     "text": [
      "       time  trt  age      wtkg  hemo  homo  drugs  karnof  oprior  z30  ...  \\\n",
      "49995   953    3   46  61.28204     0     0      0      90       0    1  ...   \n",
      "49996  1036    0   42  73.36768     0     1      0     100       0    1  ...   \n",
      "49997  1157    0   40  78.75824     0     1      0     100       0    1  ...   \n",
      "49998   596    0   31  52.20371     0     0      0     100       0    1  ...   \n",
      "49999   612    2   41  77.12100     0     1      0      90       0    1  ...   \n",
      "\n",
      "       str2  strat  symptom  treat  offtrt  cd40  cd420  cd80  cd820  infected  \n",
      "49995     1      3        0      1       1   234    402   481   1014         0  \n",
      "49996     1      3        0      0       1   369    575   514    657         0  \n",
      "49997     1      1        0      1       0   308    663  1581    863         0  \n",
      "49998     1      1        0      1       1   349    440   470    865         1  \n",
      "49999     1      3        0      1       0   428    396  1002    696         0  \n",
      "\n",
      "[5 rows x 23 columns]\n"
     ]
    }
   ],
   "source": [
    "# Print Last 5 rows\n",
    "print(df.tail())"
   ]
  },
  {
   "cell_type": "code",
   "execution_count": 7,
   "metadata": {
    "metadata": {}
   },
   "outputs": [
    {
     "name": "stdout",
     "output_type": "stream",
     "text": [
      "Dataset Information:\n",
      "<class 'pandas.core.frame.DataFrame'>\n",
      "RangeIndex: 50000 entries, 0 to 49999\n",
      "Data columns (total 23 columns):\n",
      " #   Column    Non-Null Count  Dtype  \n",
      "---  ------    --------------  -----  \n",
      " 0   time      50000 non-null  int64  \n",
      " 1   trt       50000 non-null  int64  \n",
      " 2   age       50000 non-null  int64  \n",
      " 3   wtkg      50000 non-null  float64\n",
      " 4   hemo      50000 non-null  int64  \n",
      " 5   homo      50000 non-null  int64  \n",
      " 6   drugs     50000 non-null  int64  \n",
      " 7   karnof    50000 non-null  int64  \n",
      " 8   oprior    50000 non-null  int64  \n",
      " 9   z30       50000 non-null  int64  \n",
      " 10  preanti   50000 non-null  int64  \n",
      " 11  race      50000 non-null  int64  \n",
      " 12  gender    50000 non-null  int64  \n",
      " 13  str2      50000 non-null  int64  \n",
      " 14  strat     50000 non-null  int64  \n",
      " 15  symptom   50000 non-null  int64  \n",
      " 16  treat     50000 non-null  int64  \n",
      " 17  offtrt    50000 non-null  int64  \n",
      " 18  cd40      50000 non-null  int64  \n",
      " 19  cd420     50000 non-null  int64  \n",
      " 20  cd80      50000 non-null  int64  \n",
      " 21  cd820     50000 non-null  int64  \n",
      " 22  infected  50000 non-null  int64  \n",
      "dtypes: float64(1), int64(22)\n",
      "memory usage: 8.8 MB\n",
      "None\n"
     ]
    }
   ],
   "source": [
    "# Display basic information about the dataset\n",
    "print(\"Dataset Information:\")\n",
    "print(df.info())"
   ]
  },
  {
   "cell_type": "code",
   "execution_count": 8,
   "metadata": {
    "metadata": {}
   },
   "outputs": [
    {
     "name": "stdout",
     "output_type": "stream",
     "text": [
      "Duplicate Rows: 0\n"
     ]
    }
   ],
   "source": [
    "# Count duplicate rows in the DataFrame\n",
    "duplicate_count = df.duplicated().sum()\n",
    "\n",
    "# Print the count of duplicate rows\n",
    "print(\"Duplicate Rows:\", duplicate_count)"
   ]
  },
  {
   "cell_type": "code",
   "execution_count": 9,
   "metadata": {
    "metadata": {}
   },
   "outputs": [
    {
     "name": "stdout",
     "output_type": "stream",
     "text": [
      "\n",
      "Missing Values:\n",
      "time        0\n",
      "trt         0\n",
      "age         0\n",
      "wtkg        0\n",
      "hemo        0\n",
      "homo        0\n",
      "drugs       0\n",
      "karnof      0\n",
      "oprior      0\n",
      "z30         0\n",
      "preanti     0\n",
      "race        0\n",
      "gender      0\n",
      "str2        0\n",
      "strat       0\n",
      "symptom     0\n",
      "treat       0\n",
      "offtrt      0\n",
      "cd40        0\n",
      "cd420       0\n",
      "cd80        0\n",
      "cd820       0\n",
      "infected    0\n",
      "dtype: int64\n"
     ]
    }
   ],
   "source": [
    "# Check for missing values after cleaning.\n",
    "print(\"\\nMissing Values:\")\n",
    "print(df.isnull().sum())"
   ]
  },
  {
   "cell_type": "code",
   "execution_count": 10,
   "metadata": {
    "metadata": {}
   },
   "outputs": [
    {
     "name": "stdout",
     "output_type": "stream",
     "text": [
      "(50000, 23)\n"
     ]
    }
   ],
   "source": [
    "# Print column and row numbers\n",
    "print(df.shape)"
   ]
  },
  {
   "cell_type": "code",
   "execution_count": 11,
   "metadata": {
    "metadata": {}
   },
   "outputs": [],
   "source": [
    "# Save the cleaned dataset to a new CSV file\n",
    "df.to_csv('Cleaned_AIDS_Classification.csv', index=False)"
   ]
  },
  {
   "cell_type": "code",
   "execution_count": 12,
   "metadata": {
    "metadata": {}
   },
   "outputs": [
    {
     "name": "stdout",
     "output_type": "stream",
     "text": [
      "\n",
      "Summary Report:\n",
      "Original dataset size: 50000\n",
      "Cleaned dataset size: 50000\n"
     ]
    }
   ],
   "source": [
    "# Summary report\n",
    "print(\"\\nSummary Report:\")\n",
    "print(\"Original dataset size:\", len(pd.read_csv('AIDS_Classification.csv')))\n",
    "print(\"Cleaned dataset size:\", len(df))"
   ]
  }
 ],
 "metadata": {
  "kernelspec": {
   "display_name": "Python 3",
   "language": "python",
   "name": "python3"
  },
  "language_info": {
   "codemirror_mode": {
    "name": "ipython",
    "version": 3
   },
   "file_extension": ".py",
   "mimetype": "text/x-python",
   "name": "python",
   "nbconvert_exporter": "python",
   "pygments_lexer": "ipython3",
   "version": "3.10.12"
  }
 },
 "nbformat": 4,
 "nbformat_minor": 2
}
